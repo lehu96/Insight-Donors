{
 "cells": [
  {
   "cell_type": "code",
   "execution_count": 22,
   "metadata": {},
   "outputs": [],
   "source": [
    "import numpy as np\n",
    "import pandas as pd\n",
    "import time\n",
    "\n",
    "HEADER_NAMES = np.array(['CMTE_ID', 'AMNDT_IND', 'RPT_TP', 'TRANSACTION_PGI', 'IMAGE_NUM',\n",
    "                        'TRANSACTION_TP', 'ENTITY_TP', 'NAME', 'CITY', 'STATE',\n",
    "                        'ZIP_CODE', 'EMPLOYER', 'OCCUPATION', 'TRANSACTION_DT', 'TRANSACTION_AMT',\n",
    "                        'OTHER_ID', 'TRAN_ID', 'FILE_NUM', 'MEMO_CD', 'MEMO_TEXT','SUB_ID'])\n",
    "\n",
    "BY_ZIP = pd.DataFrame(columns=['CMTE_ID', 'ZIP_CODE', 'RUN_MED', 'NUM_ZIP_TRANS', 'TOTAL_ZIP_AMT'])\n",
    "BY_ZIP['RUN_MED'] = BY_ZIP['RUN_MED'].astype(int)\n",
    "BY_ZIP['NUM_ZIP_TRANS'] = BY_ZIP['NUM_ZIP_TRANS'].astype(int)\n",
    "BY_ZIP['TOTAL_ZIP_AMT'] = BY_ZIP['TOTAL_ZIP_AMT'].astype(int)\n",
    "# SEEN_ZIPS = set() #set\n",
    "SEEN_ZIPS = {} # zip: [count, sum]\n",
    "\n",
    "BY_DATE = pd.DataFrame(columns=['CMTE_ID', 'TRANSACTION_DT', 'MEDIAN', 'NUM_TRANS', 'TOTAL_AMT'])\n",
    "BY_DATE['MEDIAN'] = BY_DATE['MEDIAN'].astype(int)\n",
    "BY_DATE['NUM_TRANS'] = BY_DATE['NUM_TRANS'].astype(int)\n",
    "BY_DATE['TOTAL_AMT'] = BY_DATE['TOTAL_AMT'].astype(int)\n",
    "reader = pd.read_csv('../../input/itcont_short.txt', sep='|', header=None, names=HEADER_NAMES,\n",
    "                         usecols=['CMTE_ID', 'ZIP_CODE', 'TRANSACTION_DT', 'TRANSACTION_AMT', 'OTHER_ID'],\n",
    "                         index_col=False, na_filter = False, chunksize=1000000, dtype={'ZIP_CODE': object, 'TRANSACTION_DT': object})"
   ]
  },
  {
   "cell_type": "code",
   "execution_count": 23,
   "metadata": {
    "collapsed": true
   },
   "outputs": [],
   "source": [
    "def preprocessing(pre_df):\n",
    "    temp_df = pd.DataFrame(pre_df.loc[(pre_df['OTHER_ID']=='') & (pre_df['CMTE_ID'] != '') & (np.invert(pre_df['TRANSACTION_AMT'].isnull())), :])\n",
    "    temp_df.loc[:,'ZIP_CODE'] = temp_df.loc[:, 'ZIP_CODE'].astype(str).str[:5]\n",
    "    temp_df.loc[:, 'TRANSACTION_DT'] = pd.to_datetime(temp_df['TRANSACTION_DT'], format=\"%m%d%Y\")\n",
    "    return temp_df\n",
    "        \n",
    "def process_by_zip(input_df):\n",
    "    global BY_ZIP\n",
    "    valid_zip_df = pd.DataFrame(input_df.loc[input_df['ZIP_CODE'].str.len() == 5, :])\n",
    "    list_dicts = []\n",
    "    for row in valid_zip_df.itertuples():\n",
    "        if row.ZIP_CODE not in SEEN_ZIPS:\n",
    "            SEEN_ZIPS[row.ZIP_CODE] = [1, row.TRANSACTION_AMT]\n",
    "        else:\n",
    "            SEEN_ZIPS[row.ZIP_CODE] = [SEEN_ZIPS[row.ZIP_CODE][0]+1, SEEN_ZIPS[row.ZIP_CODE][1]+row.TRANSACTION_AMT]\n",
    "        list_dicts.append({'CMTE_ID': row.CMTE_ID, \n",
    "                             'ZIP_CODE': row.ZIP_CODE,\n",
    "                             'RUN_MED': row.TRANSACTION_AMT,\n",
    "                             'NUM_ZIP_TRANS': SEEN_ZIPS[row.ZIP_CODE][0],\n",
    "                             'TOTAL_ZIP_AMT': SEEN_ZIPS[row.ZIP_CODE][1]})\n",
    "    BY_ZIP = pd.concat([BY_ZIP, pd.DataFrame(list_dicts)])\n",
    "    \n",
    "def process_by_date(input_df):\n",
    "    global BY_DATE\n",
    "    valid_date_df = pd.DataFrame(input_df.loc[np.invert(input_df['TRANSACTION_AMT'].isnull()), :])\n",
    "    list_dicts = []\n",
    "    for row in valid_date_df.itertuples():\n",
    "        list_dicts.append({'CMTE_ID': row.CMTE_ID,\n",
    "                           'TRANSACTION_DT': row.TRANSACTION_DT,\n",
    "                           'MEDIAN': row.TRANSACTION_AMT,\n",
    "                           'NUM_TRANS': 1,\n",
    "                           'TOTAL_AMT': row.TRANSACTION_AMT\n",
    "                           })\n",
    "    BY_DATE = pd.concat([BY_DATE, pd.DataFrame(list_dicts)])\n",
    "    \n",
    "def running_med():\n",
    "    global BY_ZIP\n",
    "    global SEEN_ZIPS\n",
    "    BY_ZIP.reset_index(inplace=True, drop=True)\n",
    "    BY_ZIP['Index'] = BY_ZIP.index\n",
    "    BY_ZIP.set_index('ZIP_CODE', inplace=True)\n",
    "    list_zips = []\n",
    "    for zips in SEEN_ZIPS:\n",
    "        run_med = pd.Series(BY_ZIP.loc[zips, 'RUN_MED']).expanding().median().round().astype(int)\n",
    "        indices = pd.Series(BY_ZIP.loc[zips, 'Index'])\n",
    "        for index, med in zip(indices,run_med):\n",
    "            list_zips.append({'RUN_MED': med, \n",
    "                              'Indices': index})\n",
    "    temp_df = pd.DataFrame(list_zips)\n",
    "    temp_df.set_index('Indices', inplace=True)\n",
    "    BY_ZIP.reset_index(inplace=True)\n",
    "    BY_ZIP = BY_ZIP.loc[:, ['ZIP_CODE', 'CMTE_ID', 'NUM_ZIP_TRANS', 'TOTAL_ZIP_AMT']].merge(\n",
    "        temp_df, how='outer', left_index=True, right_index=True, sort=True)\n",
    "    \n",
    "def date_recip_order():\n",
    "    global BY_DATE\n",
    "    BY_DATE = BY_DATE.groupby(['CMTE_ID', 'TRANSACTION_DT']).agg(\n",
    "        {'MEDIAN': np.median, 'NUM_TRANS': 'count', 'TOTAL_AMT': 'sum'})\n",
    "    BY_DATE['MEDIAN'] = BY_DATE['MEDIAN'].round().astype(int)\n",
    "    BY_DATE.reset_index(inplace=True)\n",
    "    \n",
    "def post_process_zip():\n",
    "    global BY_ZIP\n",
    "    BY_ZIP = BY_ZIP[['CMTE_ID', 'ZIP_CODE', 'RUN_MED', 'NUM_ZIP_TRANS', 'TOTAL_ZIP_AMT']]\n",
    "    \n",
    "def post_process_date():\n",
    "    global BY_DATE\n",
    "    BY_DATE = BY_DATE[['CMTE_ID', 'TRANSACTION_DT', 'MEDIAN', 'NUM_TRANS', 'TOTAL_AMT']]\n",
    "    BY_DATE.loc[:,'TRANSACTION_DT'] = BY_DATE.loc[:,'TRANSACTION_DT'].dt.strftime('%m%d%Y')\n",
    "    BY_DATE.sort_values(['CMTE_ID', 'TRANSACTION_DT'], inplace=True)    "
   ]
  },
  {
   "cell_type": "code",
   "execution_count": 34,
   "metadata": {},
   "outputs": [],
   "source": [
    "# for chunk in reader:\n",
    "#     test_df = preprocessing(chunk)\n",
    "#     process_by_zip(test_df)\n",
    "#     process_by_date(test_df)\n",
    "post_process_zip()\n",
    "post_process_date()"
   ]
  },
  {
   "cell_type": "code",
   "execution_count": 16,
   "metadata": {},
   "outputs": [
    {
     "name": "stdout",
     "output_type": "stream",
     "text": [
      "--- 14.864471435546875 seconds ---\n"
     ]
    }
   ],
   "source": [
    "start_time = time.time()\n",
    "chunk = reader.get_chunk(20000)\n",
    "\n",
    "# for chunk in reader:\n",
    "test_df = preprocessing(chunk)\n",
    "process_by_zip2(test_df)\n",
    "process_by_date(test_df)\n",
    "\n",
    "running_med2()\n",
    "date_recip_order()\n",
    "\n",
    "post_process_zip()\n",
    "post_process_date()\n",
    "\n",
    "print(\"--- %s seconds ---\" % (time.time() - start_time))"
   ]
  },
  {
   "cell_type": "code",
   "execution_count": 35,
   "metadata": {},
   "outputs": [
    {
     "data": {
      "text/html": [
       "<div>\n",
       "<style>\n",
       "    .dataframe thead tr:only-child th {\n",
       "        text-align: right;\n",
       "    }\n",
       "\n",
       "    .dataframe thead th {\n",
       "        text-align: left;\n",
       "    }\n",
       "\n",
       "    .dataframe tbody tr th {\n",
       "        vertical-align: top;\n",
       "    }\n",
       "</style>\n",
       "<table border=\"1\" class=\"dataframe\">\n",
       "  <thead>\n",
       "    <tr style=\"text-align: right;\">\n",
       "      <th></th>\n",
       "      <th>CMTE_ID</th>\n",
       "      <th>ZIP_CODE</th>\n",
       "      <th>RUN_MED</th>\n",
       "      <th>NUM_ZIP_TRANS</th>\n",
       "      <th>TOTAL_ZIP_AMT</th>\n",
       "    </tr>\n",
       "  </thead>\n",
       "  <tbody>\n",
       "    <tr>\n",
       "      <th>0</th>\n",
       "      <td>C00177436</td>\n",
       "      <td>30004</td>\n",
       "      <td>384</td>\n",
       "      <td>1</td>\n",
       "      <td>384</td>\n",
       "    </tr>\n",
       "    <tr>\n",
       "      <th>1</th>\n",
       "      <td>C00384818</td>\n",
       "      <td>02895</td>\n",
       "      <td>250</td>\n",
       "      <td>1</td>\n",
       "      <td>250</td>\n",
       "    </tr>\n",
       "    <tr>\n",
       "      <th>2</th>\n",
       "      <td>C00177436</td>\n",
       "      <td>30750</td>\n",
       "      <td>230</td>\n",
       "      <td>1</td>\n",
       "      <td>230</td>\n",
       "    </tr>\n",
       "    <tr>\n",
       "      <th>3</th>\n",
       "      <td>C00177436</td>\n",
       "      <td>04105</td>\n",
       "      <td>384</td>\n",
       "      <td>1</td>\n",
       "      <td>384</td>\n",
       "    </tr>\n",
       "    <tr>\n",
       "      <th>4</th>\n",
       "      <td>C00384818</td>\n",
       "      <td>02895</td>\n",
       "      <td>292</td>\n",
       "      <td>2</td>\n",
       "      <td>583</td>\n",
       "    </tr>\n",
       "    <tr>\n",
       "      <th>5</th>\n",
       "      <td>C00177436</td>\n",
       "      <td>04105</td>\n",
       "      <td>384</td>\n",
       "      <td>2</td>\n",
       "      <td>768</td>\n",
       "    </tr>\n",
       "  </tbody>\n",
       "</table>\n",
       "</div>"
      ],
      "text/plain": [
       "     CMTE_ID ZIP_CODE  RUN_MED  NUM_ZIP_TRANS  TOTAL_ZIP_AMT\n",
       "0  C00177436    30004      384              1            384\n",
       "1  C00384818    02895      250              1            250\n",
       "2  C00177436    30750      230              1            230\n",
       "3  C00177436    04105      384              1            384\n",
       "4  C00384818    02895      292              2            583\n",
       "5  C00177436    04105      384              2            768"
      ]
     },
     "execution_count": 35,
     "metadata": {},
     "output_type": "execute_result"
    }
   ],
   "source": [
    "BY_ZIP"
   ]
  },
  {
   "cell_type": "code",
   "execution_count": 37,
   "metadata": {},
   "outputs": [
    {
     "data": {
      "text/plain": [
       "['CMTE_ID', 'TRANSACTION_DT', 'MEDIAN', 'NUM_TRANS', 'TOTAL_AMT']"
      ]
     },
     "execution_count": 37,
     "metadata": {},
     "output_type": "execute_result"
    }
   ],
   "source": [
    "list(BY_DATE)"
   ]
  },
  {
   "cell_type": "code",
   "execution_count": 38,
   "metadata": {},
   "outputs": [
    {
     "data": {
      "text/plain": [
       "['CMTE_ID', 'ZIP_CODE', 'RUN_MED', 'NUM_ZIP_TRANS', 'TOTAL_ZIP_AMT']"
      ]
     },
     "execution_count": 38,
     "metadata": {},
     "output_type": "execute_result"
    }
   ],
   "source": [
    "list(BY_ZIP)"
   ]
  },
  {
   "cell_type": "code",
   "execution_count": 45,
   "metadata": {},
   "outputs": [
    {
     "data": {
      "text/html": [
       "<div>\n",
       "<style>\n",
       "    .dataframe thead tr:only-child th {\n",
       "        text-align: right;\n",
       "    }\n",
       "\n",
       "    .dataframe thead th {\n",
       "        text-align: left;\n",
       "    }\n",
       "\n",
       "    .dataframe tbody tr th {\n",
       "        vertical-align: top;\n",
       "    }\n",
       "</style>\n",
       "<table border=\"1\" class=\"dataframe\">\n",
       "  <thead>\n",
       "    <tr style=\"text-align: right;\">\n",
       "      <th></th>\n",
       "      <th>CMTE_ID</th>\n",
       "      <th>TRANSACTION_DT</th>\n",
       "      <th>MEDIAN</th>\n",
       "      <th>NUM_TRANS</th>\n",
       "      <th>TOTAL_AMT</th>\n",
       "    </tr>\n",
       "  </thead>\n",
       "  <tbody>\n",
       "    <tr>\n",
       "      <th>0</th>\n",
       "      <td>C00177436</td>\n",
       "      <td>01312017</td>\n",
       "      <td>384</td>\n",
       "      <td>4</td>\n",
       "      <td>1382</td>\n",
       "    </tr>\n",
       "    <tr>\n",
       "      <th>1</th>\n",
       "      <td>C00384818</td>\n",
       "      <td>01122017</td>\n",
       "      <td>292</td>\n",
       "      <td>2</td>\n",
       "      <td>583</td>\n",
       "    </tr>\n",
       "  </tbody>\n",
       "</table>\n",
       "</div>"
      ],
      "text/plain": [
       "     CMTE_ID TRANSACTION_DT  MEDIAN  NUM_TRANS  TOTAL_AMT\n",
       "0  C00177436       01312017     384          4       1382\n",
       "1  C00384818       01122017     292          2        583"
      ]
     },
     "execution_count": 45,
     "metadata": {},
     "output_type": "execute_result"
    }
   ],
   "source": [
    "BY_DATE"
   ]
  },
  {
   "cell_type": "code",
   "execution_count": 46,
   "metadata": {},
   "outputs": [
    {
     "data": {
      "text/plain": [
       "CMTE_ID           object\n",
       "TRANSACTION_DT    object\n",
       "MEDIAN             int32\n",
       "NUM_TRANS          int64\n",
       "TOTAL_AMT          int64\n",
       "dtype: object"
      ]
     },
     "execution_count": 46,
     "metadata": {},
     "output_type": "execute_result"
    }
   ],
   "source": [
    "BY_DATE.dtypes"
   ]
  },
  {
   "cell_type": "code",
   "execution_count": 48,
   "metadata": {},
   "outputs": [
    {
     "data": {
      "text/plain": [
       "0    01312017\n",
       "1    01122017\n",
       "Name: TRANSACTION_DT, dtype: object"
      ]
     },
     "execution_count": 48,
     "metadata": {},
     "output_type": "execute_result"
    }
   ],
   "source": [
    "BY_DATE.loc[:, 'TRANSACTION_DT']"
   ]
  },
  {
   "cell_type": "code",
   "execution_count": null,
   "metadata": {
    "collapsed": true
   },
   "outputs": [],
   "source": []
  }
 ],
 "metadata": {
  "kernelspec": {
   "display_name": "Python 3",
   "language": "python",
   "name": "python3"
  },
  "language_info": {
   "codemirror_mode": {
    "name": "ipython",
    "version": 3
   },
   "file_extension": ".py",
   "mimetype": "text/x-python",
   "name": "python",
   "nbconvert_exporter": "python",
   "pygments_lexer": "ipython3",
   "version": "3.5.4"
  }
 },
 "nbformat": 4,
 "nbformat_minor": 2
}
